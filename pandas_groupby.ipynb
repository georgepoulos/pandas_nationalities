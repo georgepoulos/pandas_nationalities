import json
from pathlib import Path

import numpy as np
import pandas as pd
file_name = 'final_dom_list_november_cutted.csv'
df = pd.read_csv(
        file_name,
        sep=';',
        #index_col="id",
        names=[

            "Site",
            "Presence",
            "Status",
            "Household Size",
            "Household Role",
            "Sex",
            "Nationality",
            "Project",
            "Census Legal Status",
            "site_datareports",
            "site type",
            "dimos",
            "Περιφερειακή ενότητα",
            "Περιφέρεια",
        ],
    )

df = df.groupby(['Περιφέρεια','Περιφερειακή ενότητα','Nationality'])
#df = df.groupby(['Περιφερειακή ενότητα','Nationality'])
df = df['Nationality'].agg(['count'])
#df = df.agg({'Sinolo' : 'count'})
print(df)
df.to_csv(r'export.csv',index='Nationality', encoding="utf-8")
